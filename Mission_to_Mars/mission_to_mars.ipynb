{
 "cells": [
  {
   "cell_type": "code",
   "execution_count": 208,
   "metadata": {},
   "outputs": [],
   "source": [
    "import pandas as pd\n",
    "from splinter import Browser\n",
    "from bs4 import BeautifulSoup as bs\n",
    "import cssutils\n",
    "from pprint import pprint"
   ]
  },
  {
   "cell_type": "code",
   "execution_count": 209,
   "metadata": {},
   "outputs": [],
   "source": [
    "executable_path = {'executable_path': 'D:\\chromedriver.exe'}\n",
    "browser = Browser('chrome', **executable_path, headless=False)"
   ]
  },
  {
   "cell_type": "code",
   "execution_count": 210,
   "metadata": {},
   "outputs": [],
   "source": [
    "url = \"https://mars.nasa.gov/news/\"\n",
    "browser.visit(url)"
   ]
  },
  {
   "cell_type": "code",
   "execution_count": 211,
   "metadata": {},
   "outputs": [],
   "source": [
    "html = browser.html\n",
    "soup = bs(html, 'html.parser')"
   ]
  },
  {
   "cell_type": "code",
   "execution_count": 212,
   "metadata": {
    "tags": []
   },
   "outputs": [
    {
     "output_type": "stream",
     "name": "stdout",
     "text": "Date: August 24, 2020\nTitle: NASA Engineers Checking InSight's Weather Sensors\nSummary: An electronics issue is suspected to be preventing the sensors from sharing their data about Mars weather with the spacecraft.\n"
    }
   ],
   "source": [
    "#NASA Mars News\n",
    "#UPDATES EVERY NEW ARTICLE\n",
    "\n",
    "articles = soup.find_all(\"div\", class_='list_text')\n",
    "\n",
    "news_date = articles[0].find('div', class_='list_date').text\n",
    "news_title = articles[0].find(\"div\", class_=\"content_title\").text\n",
    "news_p = articles[0].find('div', class_='article_teaser_body').text\n",
    "\n",
    "# print(article)\n",
    "print('Date: ' + news_date)\n",
    "print('Title: ' + news_title)\n",
    "print('Summary: ' + news_p)\n"
   ]
  },
  {
   "cell_type": "code",
   "execution_count": 213,
   "metadata": {
    "tags": []
   },
   "outputs": [
    {
     "output_type": "stream",
     "name": "stdout",
     "text": "https://www.jpl.nasa.gov//spaceimages/images/wallpaper/PIA17896-1920x1200.jpg\n"
    }
   ],
   "source": [
    "#JPL Mars Space Images - Featured Image\n",
    "#UPDATES EVERY NEW IMAGE \n",
    "\n",
    "img_url = 'https://www.jpl.nasa.gov/spaceimages/?search=&category=Mars'\n",
    "browser.visit(img_url)\n",
    "\n",
    "img_html = browser.html\n",
    "img_soup = bs(img_html, 'html.parser')\n",
    "\n",
    "div_style = img_soup.find('article')['style']\n",
    "style = cssutils.parseStyle(div_style)\n",
    "url = style['background-image']\n",
    "url = url.replace('url(', '').replace(')', '') \n",
    "\n",
    "featured_image_url = ('https://www.jpl.nasa.gov/' + url)\n",
    "\n",
    "print(featured_image_url)\n"
   ]
  },
  {
   "cell_type": "code",
   "execution_count": 216,
   "metadata": {},
   "outputs": [
    {
     "output_type": "execute_result",
     "data": {
      "text/plain": "                                              Value\nDescription                                        \nEquatorial Diameter:                       6,792 km\nPolar Diameter:                            6,752 km\nMass:                 6.39 × 10^23 kg (0.11 Earths)\nMoons:                          2 (Phobos & Deimos)\nOrbit Distance:            227,943,824 km (1.38 AU)\nOrbit Period:                  687 days (1.9 years)\nSurface Temperature:                   -87 to -5 °C\nFirst Record:                     2nd millennium BC\nRecorded By:                   Egyptian astronomers",
      "text/html": "<div>\n<style scoped>\n    .dataframe tbody tr th:only-of-type {\n        vertical-align: middle;\n    }\n\n    .dataframe tbody tr th {\n        vertical-align: top;\n    }\n\n    .dataframe thead th {\n        text-align: right;\n    }\n</style>\n<table border=\"1\" class=\"dataframe\">\n  <thead>\n    <tr style=\"text-align: right;\">\n      <th></th>\n      <th>Value</th>\n    </tr>\n    <tr>\n      <th>Description</th>\n      <th></th>\n    </tr>\n  </thead>\n  <tbody>\n    <tr>\n      <th>Equatorial Diameter:</th>\n      <td>6,792 km</td>\n    </tr>\n    <tr>\n      <th>Polar Diameter:</th>\n      <td>6,752 km</td>\n    </tr>\n    <tr>\n      <th>Mass:</th>\n      <td>6.39 × 10^23 kg (0.11 Earths)</td>\n    </tr>\n    <tr>\n      <th>Moons:</th>\n      <td>2 (Phobos &amp; Deimos)</td>\n    </tr>\n    <tr>\n      <th>Orbit Distance:</th>\n      <td>227,943,824 km (1.38 AU)</td>\n    </tr>\n    <tr>\n      <th>Orbit Period:</th>\n      <td>687 days (1.9 years)</td>\n    </tr>\n    <tr>\n      <th>Surface Temperature:</th>\n      <td>-87 to -5 °C</td>\n    </tr>\n    <tr>\n      <th>First Record:</th>\n      <td>2nd millennium BC</td>\n    </tr>\n    <tr>\n      <th>Recorded By:</th>\n      <td>Egyptian astronomers</td>\n    </tr>\n  </tbody>\n</table>\n</div>"
     },
     "metadata": {},
     "execution_count": 216
    }
   ],
   "source": [
    "#Mars Facts\n",
    "\n",
    "facts_url = 'https://space-facts.com/mars/' \n",
    "browser.visit(facts_url)\n",
    "facts_table = pd.read_html(facts_url) \n",
    "\n",
    "facts_table[2].columns = ['Description', 'Value']\n",
    "facts_table[2].set_index('Description', inplace=True)\n",
    "facts_table[2]\n",
    "\n"
   ]
  },
  {
   "cell_type": "code",
   "execution_count": 215,
   "metadata": {},
   "outputs": [],
   "source": [
    "facts_table[2].to_html('facts_table.html')"
   ]
  },
  {
   "cell_type": "code",
   "execution_count": 207,
   "metadata": {
    "tags": []
   },
   "outputs": [
    {
     "output_type": "stream",
     "name": "stdout",
     "text": "[{'img_url': 'https://astrogeology.usgs.gov/search/search/map/Mars/Viking/cerberus_enhanced',\n  'title': 'Cerberus Hemisphere Enhanced'},\n {'img_url': 'https://astrogeology.usgs.gov/search/search/map/Mars/Viking/schiaparelli_enhanced',\n  'title': 'Schiaparelli Hemisphere Enhanced'},\n {'img_url': 'https://astrogeology.usgs.gov/search/search/map/Mars/Viking/syrtis_major_enhanced',\n  'title': 'Syrtis Major Hemisphere Enhanced'},\n {'img_url': 'https://astrogeology.usgs.gov/search/search/map/Mars/Viking/valles_marineris_enhanced',\n  'title': 'Valles Marineris Hemisphere Enhanced'}]\n"
    }
   ],
   "source": [
    "#Mars Hemispheres\n",
    "\n",
    "hemi_img_url = 'https://astrogeology.usgs.gov/search/results?q=hemisphere+enhanced&k1=target&v1=Mars'\n",
    "browser.visit(hemi_img_url)\n",
    "\n",
    "hemi_img_html = browser.html\n",
    "hemi_img_soup = bs(hemi_img_html, 'html.parser')\n",
    "\n",
    "img_info = hemi_img_soup.find_all('div', class_='description')\n",
    "\n",
    "#IMAGE TITLE\n",
    "img_title0 = img_info[0].find(\"h3\").get_text()\n",
    "img_title1 = img_info[1].find(\"h3\").get_text()\n",
    "img_title2 = img_info[2].find(\"h3\").get_text()\n",
    "img_title3 = img_info[3].find(\"h3\").get_text()\n",
    "\n",
    "#IMAGE URL\n",
    "img_link0 = \"https://astrogeology.usgs.gov/search\" + img_info[0].find('a')['href']\n",
    "img_link1 = \"https://astrogeology.usgs.gov/search\" + img_info[1].find('a')['href']\n",
    "img_link2 = \"https://astrogeology.usgs.gov/search\" + img_info[2].find('a')['href']\n",
    "img_link3 = \"https://astrogeology.usgs.gov/search\" + img_info[3].find('a')['href']\n",
    "\n",
    "#Dictionary Appends\n",
    "title=[img_title0,img_title1,img_title2,img_title3]\n",
    "img_url=[img_link0,img_link1,img_link2,img_link3]\n",
    "\n",
    "# print(img_title0)\n",
    "# print(img_title1)\n",
    "# print(img_title2)\n",
    "# print(img_title3)\n",
    "\n",
    "# print(img_link0['href'])\n",
    "# print(img_link1['href'])\n",
    "# print(img_link2['href'])\n",
    "# print(img_link3['href'])\n",
    "\n",
    "hemisphere_image_urls = [{\"title\":img_title0, \"img_url\":img_link0},\n",
    "                         {\"title\":img_title1, \"img_url\":img_link1},\n",
    "                         {\"title\":img_title2, \"img_url\":img_link2},\n",
    "                         {\"title\":img_title3, \"img_url\":img_link3}]\n",
    "\n",
    "pprint(hemisphere_image_urls)\n"
   ]
  }
 ],
 "metadata": {
  "kernelspec": {
   "name": "python361064bitp36conda5fb6f1d9d266422d8a22bfe06061d619",
   "display_name": "Python 3.6.10 64-bit ('p36': conda)"
  }
 },
 "nbformat": 4,
 "nbformat_minor": 4
}