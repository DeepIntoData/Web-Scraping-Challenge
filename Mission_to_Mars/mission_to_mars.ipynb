{
 "cells": [
  {
   "cell_type": "code",
   "execution_count": 1,
   "metadata": {},
   "outputs": [],
   "source": [
    "import pandas as pd\n",
    "from splinter import Browser\n",
    "from bs4 import BeautifulSoup as bs\n",
    "import cssutils"
   ]
  },
  {
   "cell_type": "code",
   "execution_count": 2,
   "metadata": {},
   "outputs": [],
   "source": [
    "executable_path = {'executable_path': 'D:\\chromedriver.exe'}\n",
    "browser = Browser('chrome', **executable_path, headless=False)"
   ]
  },
  {
   "cell_type": "code",
   "execution_count": 3,
   "metadata": {},
   "outputs": [],
   "source": [
    "url = \"https://mars.nasa.gov/news/\"\n",
    "browser.visit(url)"
   ]
  },
  {
   "cell_type": "code",
   "execution_count": 4,
   "metadata": {},
   "outputs": [],
   "source": [
    "html = browser.html\n",
    "soup = bs(html, 'html.parser')"
   ]
  },
  {
   "cell_type": "code",
   "execution_count": 5,
   "metadata": {
    "tags": []
   },
   "outputs": [
    {
     "output_type": "stream",
     "name": "stdout",
     "text": "Date: August 24, 2020\nTitle: NASA Engineers Checking InSight's Weather Sensors\nSummary: An electronics issue is suspected to be preventing the sensors from sharing their data about Mars weather with the spacecraft.\n"
    }
   ],
   "source": [
    "#NASA Mars News\n",
    "#UPDATES EVERY NEW ARTICLE\n",
    "\n",
    "articles = soup.find_all(\"div\", class_='list_text')\n",
    "\n",
    "news_date = articles[0].find('div', class_='list_date').text\n",
    "news_title = articles[0].find(\"div\", class_=\"content_title\").text\n",
    "news_p = articles[0].find('div', class_='article_teaser_body').text\n",
    "\n",
    "# print(article)\n",
    "print('Date: ' + news_date)\n",
    "print('Title: ' + news_title)\n",
    "print('Summary: ' + news_p)\n"
   ]
  },
  {
   "cell_type": "code",
   "execution_count": 6,
   "metadata": {
    "tags": []
   },
   "outputs": [
    {
     "output_type": "stream",
     "name": "stdout",
     "text": "https://www.jpl.nasa.gov//spaceimages/images/wallpaper/PIA19343-1920x1200.jpg\n"
    }
   ],
   "source": [
    "#JPL Mars Space Images - Featured Image\n",
    "#UPDATES EVERY NEW IMAGE \n",
    "\n",
    "img_url = 'https://www.jpl.nasa.gov/spaceimages/?search=&category=Mars'\n",
    "browser.visit(img_url)\n",
    "\n",
    "img_html = browser.html\n",
    "img_soup = bs(img_html, 'html.parser')\n",
    "\n",
    "div_style = img_soup.find('article')['style']\n",
    "style = cssutils.parseStyle(div_style)\n",
    "url = style['background-image']\n",
    "url = url.replace('url(', '').replace(')', '') \n",
    "\n",
    "featured_image_url = ('https://www.jpl.nasa.gov/' + url)\n",
    "\n",
    "print(featured_image_url)\n"
   ]
  },
  {
   "cell_type": "code",
   "execution_count": 8,
   "metadata": {},
   "outputs": [],
   "source": [
    "#Mars Facts\n",
    "\n",
    "facts_url = 'https://space-facts.com/mars/' \n",
    "browser.visit(facts_url)\n",
    "facts_table = pd.read_html(facts_url) \n",
    "\n",
    "facts_table[2].columns = ['Description', 'Value']\n",
    "table=facts_table[2].set_index('Description')\n",
    "table\n",
    "\n",
    "table.to_html('facts_table.html')"
   ]
  },
  {
   "cell_type": "code",
   "execution_count": null,
   "metadata": {},
   "outputs": [],
   "source": [
    "#Mars Hemispheres\n",
    "\n"
   ]
  }
 ],
 "metadata": {
  "kernelspec": {
   "name": "python361064bitp36conda5fb6f1d9d266422d8a22bfe06061d619",
   "display_name": "Python 3.6.10 64-bit ('p36': conda)"
  }
 },
 "nbformat": 4,
 "nbformat_minor": 4
}