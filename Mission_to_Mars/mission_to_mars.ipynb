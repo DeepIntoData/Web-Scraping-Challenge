{
 "cells": [
  {
   "cell_type": "code",
   "execution_count": 134,
   "metadata": {},
   "outputs": [],
   "source": [
    "import pandas as pd\n",
    "from splinter import Browser\n",
    "from bs4 import BeautifulSoup as bs\n",
    "import cssutils"
   ]
  },
  {
   "cell_type": "code",
   "execution_count": 18,
   "metadata": {},
   "outputs": [],
   "source": [
    "executable_path = {'executable_path': 'D:\\chromedriver.exe'}\n",
    "browser = Browser('chrome', **executable_path, headless=False)"
   ]
  },
  {
   "cell_type": "code",
   "execution_count": 19,
   "metadata": {},
   "outputs": [],
   "source": [
    "url = \"https://mars.nasa.gov/news/\"\n",
    "browser.visit(url)"
   ]
  },
  {
   "cell_type": "code",
   "execution_count": 36,
   "metadata": {},
   "outputs": [],
   "source": [
    "html = browser.html\n",
    "soup = bs(html, 'html.parser')"
   ]
  },
  {
   "cell_type": "code",
   "execution_count": 78,
   "metadata": {
    "tags": []
   },
   "outputs": [
    {
     "output_type": "stream",
     "name": "stdout",
     "text": "Date: August 24, 2020\nTitle: NASA Engineers Checking InSight's Weather Sensors\nSummary: An electronics issue is suspected to be preventing the sensors from sharing their data about Mars weather with the spacecraft.\n"
    }
   ],
   "source": [
    "#NASA Mars News\n",
    "article = soup.find_all(\"div\", class_='list_text')\n",
    "\n",
    "news_date = article[0].find('div', class_='list_date').text\n",
    "news_title = article[0].find(\"div\", class_=\"content_title\").text\n",
    "news_p = article[0].find('div', class_='article_teaser_body').text\n",
    "\n",
    "#print(article)\n",
    "print('Date: ' + news_date)\n",
    "print('Title: ' + news_title)\n",
    "print('Summary: ' + news_p)\n"
   ]
  },
  {
   "cell_type": "code",
   "execution_count": 151,
   "metadata": {
    "tags": []
   },
   "outputs": [
    {
     "output_type": "stream",
     "name": "stdout",
     "text": "https://www.jpl.nasa.gov//spaceimages/images/wallpaper/PIA00271-1920x1200.jpg\n"
    }
   ],
   "source": [
    "#JPL Mars Space Images - Featured Image\n",
    "new_url = 'https://www.jpl.nasa.gov/spaceimages/?search=&category=Mars'\n",
    "browser.visit(new_url)\n",
    "\n",
    "new_html = browser.html\n",
    "new_soup = bs(new_html, 'html.parser')\n",
    "\n",
    "div_style = new_soup.find('article')['style']\n",
    "style = cssutils.parseStyle(div_style)\n",
    "url = style['background-image']\n",
    "url = url.replace('url(', '').replace(')', '') \n",
    "\n",
    "featured_image_url = ('https://www.jpl.nasa.gov/' + url)\n",
    "\n",
    "print(featured_image_url)\n"
   ]
  },
  {
   "cell_type": "code",
   "execution_count": null,
   "metadata": {},
   "outputs": [],
   "source": [
    "#Mars Facts\n"
   ]
  }
 ],
 "metadata": {
  "kernelspec": {
   "name": "python361064bitp36conda5fb6f1d9d266422d8a22bfe06061d619",
   "display_name": "Python 3.6.10 64-bit ('p36': conda)"
  }
 },
 "nbformat": 4,
 "nbformat_minor": 4
}